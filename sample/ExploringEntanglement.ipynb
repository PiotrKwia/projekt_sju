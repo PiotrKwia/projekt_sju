{
 "cells": [
  {
   "cell_type": "markdown",
   "metadata": {},
   "source": [
    "# Badanie splątania stanów na przykładzie par EPR\n",
    "\n",
    "## Analiza algebraiczna\n",
    "\n",
    "### Pożyteczne funkcje"
   ]
  },
  {
   "cell_type": "code",
   "execution_count": 1,
   "metadata": {},
   "outputs": [
    {
     "name": "stdout",
     "output_type": "stream",
     "text": [
      "Ket(0):\n",
      " [[1.+0.j]\n",
      " [0.+0.j]]\n",
      "Bra(0):\n",
      " [[1.-0.j 0.-0.j]]\n",
      "Ket(0).H (Bra(0)):\n",
      " [[1.-0.j 0.-0.j]]\n",
      "Ket(0,1):\n",
      " [[0.+0.j]\n",
      " [1.+0.j]\n",
      " [0.+0.j]\n",
      " [0.+0.j]]\n",
      "Bra(0,1):\n",
      " [[0.-0.j 1.-0.j 0.-0.j 0.-0.j]]\n"
     ]
    }
   ],
   "source": [
    "import numpy as np\n",
    "\n",
    "def Ket(x, *args):\n",
    "    \"\"\"\n",
    "    Creates a column vector representation of the ket |x⟩ as an np.matrix.\n",
    "\n",
    "    - Converts the arguments (x, *args) into a binary string.\n",
    "    - Finds the appropriate index in computational basis.\n",
    "    - Constructs a column vector (N,1) as an np.matrix.\n",
    "\n",
    "    Returns:\n",
    "    - np.matrix (N,1) representing |x⟩, so that .H works for Hermitian conjugate.\n",
    "    \"\"\"\n",
    "    label = ''.join(str(a) for a in (x,) + args)  # Convert input args to binary string\n",
    "    N = 2 ** len(label)  # Hilbert space dimension 2^n for n-qubit states\n",
    "\n",
    "    ket_vector = np.zeros((N, 1), dtype=complex)  # Column vector (N,1)\n",
    "    index = int(label, 2)  # Convert binary string to integer index\n",
    "    ket_vector[index] = 1  # Set corresponding basis state to 1\n",
    "    \n",
    "    return np.matrix(ket_vector)  # Convert to np.matrix so that .H works\n",
    "\n",
    "def Bra(x, *args):\n",
    "    \"\"\"\n",
    "    Creates a row vector representation of the bra ⟨x| as the Hermitian conjugate of Ket(x).\n",
    "\n",
    "    Returns:\n",
    "    - np.matrix (1, N) representing ⟨x|\n",
    "    \"\"\"\n",
    "    return Ket(x, *args).H  # Use .H for Hermitian conjugate\n",
    "\n",
    "# Example usage\n",
    "ket_0 = Ket(0)       # |0⟩ as a column matrix\n",
    "ket_01 = Ket(0, 1)   # |01⟩ in a 4D Hilbert space\n",
    "bra_0 = Bra(0)       # ⟨0| as a row matrix\n",
    "bra_01 = Bra(0, 1)   # ⟨01| as a row matrix\n",
    "\n",
    "# Print results\n",
    "print(\"Ket(0):\\n\", ket_0)\n",
    "print(\"Bra(0):\\n\", bra_0)\n",
    "print(\"Ket(0).H (Bra(0)):\\n\", ket_0.H)  # Should match Bra(0)\n",
    "print(\"Ket(0,1):\\n\", ket_01)\n",
    "print(\"Bra(0,1):\\n\", bra_01)\n"
   ]
  },
  {
   "cell_type": "markdown",
   "metadata": {},
   "source": [
    "### Iloczyn zewnętrzny\n",
    "\n",
    "- czyli mnożenie wektora kolumnowego przez wierszowy ($\\ket{\\phi}\\bra{\\psi}$)\n",
    "- defincje bramek kwantowych z wykorzystaniem iloczynu zewnętrznego (operator @ oznacza mnożenie macierzy)\n",
    "- rozwiązywanie zagadnienia własnego"
   ]
  },
  {
   "cell_type": "code",
   "execution_count": 2,
   "metadata": {},
   "outputs": [
    {
     "name": "stdout",
     "output_type": "stream",
     "text": [
      "(1+0j) [[1.+0.j 0.+0.j]]\n",
      "(-1+0j) [[0.+0.j 1.+0.j]]\n",
      "(0.9999999999999996+0j) [[0.70710678-0.j 0.70710678+0.j]]\n",
      "(-0.9999999999999999+0j) [[ 0.70710678+0.j -0.70710678-0.j]]\n"
     ]
    }
   ],
   "source": [
    "import numpy as np\n",
    "from numpy.linalg import eig\n",
    "I = Ket(0) @ Bra(0) + Ket(1) @ Bra(1)\n",
    "Z = Ket(0) @ Bra(0) - Ket(1) @ Bra(1)\n",
    "X = Ket(0) @ Bra(1) + Ket(1) @ Bra(0)\n",
    "Y = 1j * (Ket(0) @ Bra(1) - Ket(1) @ Bra(0))\n",
    "H = 1/np.sqrt(2) * (Ket(0) @ Bra(0) + Ket(0) @ Bra(1) + Ket(1) @ Bra(0) - Ket(1) @ Bra(1))\n",
    "eigenvalues, eigenvectors = eig(Z)\n",
    "print(eigenvalues[0], eigenvectors[0])\n",
    "print(eigenvalues[1], eigenvectors[1])\n",
    "eigenvalues, eigenvectors = eig(X)\n",
    "print(eigenvalues[0], eigenvectors[0])\n",
    "print(eigenvalues[1], eigenvectors[1])"
   ]
  },
  {
   "cell_type": "markdown",
   "metadata": {},
   "source": [
    "### Układy złożone\n",
    "\n",
    "- bramka dwuqubitowa knotrolowanej negacji oznaczana jako $CNOT$ lub $CX$ skonstruowana za pomocą iloczynu zewnętrznego i iloczynu Kroneckera (często nazywanego tensorowym)."
   ]
  },
  {
   "cell_type": "code",
   "execution_count": 3,
   "metadata": {},
   "outputs": [
    {
     "name": "stdout",
     "output_type": "stream",
     "text": [
      "[[1.+0.j 0.+0.j 0.+0.j 0.+0.j]\n",
      " [0.+0.j 1.+0.j 0.+0.j 0.+0.j]\n",
      " [0.+0.j 0.+0.j 0.+0.j 1.+0.j]\n",
      " [0.+0.j 0.+0.j 1.+0.j 0.+0.j]]\n"
     ]
    }
   ],
   "source": [
    "from numpy import kron\n",
    "CNOT = kron(Ket(0) @ Bra(0), I) + kron(Ket(1) @ Bra(1), X)\n",
    "print(CNOT)"
   ]
  },
  {
   "cell_type": "markdown",
   "metadata": {},
   "source": [
    "### Urządzenie Bell'a\n",
    "\n",
    "Urządzenie Bella przekształca dwa niezależne qubity bazy obliczeniowej w parę EPR, czy maksymalnie splątany układ dwóch qubitów\n",
    "\n",
    "$$\\beta_{m,n} = CNOT_{m\\to n} ( H \\otimes I ) \\ket{m}\\ket{n} $$"
   ]
  },
  {
   "cell_type": "code",
   "execution_count": 4,
   "metadata": {},
   "outputs": [
    {
     "name": "stdout",
     "output_type": "stream",
     "text": [
      "[[0.70710678+0.j]\n",
      " [0.        +0.j]\n",
      " [0.        +0.j]\n",
      " [0.70710678+0.j]]\n",
      "[[0.70710678+0.j]\n",
      " [0.        +0.j]\n",
      " [0.        +0.j]\n",
      " [0.70710678+0.j]]\n"
     ]
    }
   ],
   "source": [
    "ket_00 = Ket(0, 0)\n",
    "beta_00 = CNOT @ kron(H,I) @ ket_00\n",
    "print(beta_00)\n",
    "\n",
    "Beta_00 = ( kron(Ket(0), Ket(0))+kron(Ket(1), Ket(1)) )/np.sqrt(2)\n",
    "print(Beta_00)"
   ]
  },
  {
   "cell_type": "markdown",
   "metadata": {},
   "source": [
    "### Analiza statystyki pomiarów\n",
    "\n",
    "Obliczamy rozkład prawdopodobieństw wyników dla dwóch obserwabli $Z\\otimes I$ oraz $Z\\otimes Z$.\n",
    "\n",
    "#### $Z \\otimes I$"
   ]
  },
  {
   "cell_type": "code",
   "execution_count": 5,
   "metadata": {},
   "outputs": [
    {
     "name": "stdout",
     "output_type": "stream",
     "text": [
      "Wektory własne\n",
      " [[1.+0.j 0.+0.j 0.+0.j 0.+0.j]\n",
      " [0.+0.j 1.+0.j 0.+0.j 0.+0.j]\n",
      " [0.+0.j 0.+0.j 1.+0.j 0.+0.j]\n",
      " [0.+0.j 0.+0.j 0.+0.j 1.+0.j]]\n",
      "Wartości własne i prawdopodobieństwa ich uzyskania na stanie Beta_00\n",
      " [ 1.+0.j  1.+0.j -1.+0.j -1.+0.j]\n",
      "(1+0j) [[0.5]] |0>|0>\n",
      "(1+0j) [[0.]] |0>|1>\n",
      "(-1+0j) [[0.]] |1>|0>\n",
      "(-1+0j) [[0.5]] |1>|1>\n"
     ]
    }
   ],
   "source": [
    "ZI = kron(Z,I)\n",
    "lam, V = eig(ZI)\n",
    "print(\"Wektory własne\\n\",V)\n",
    "print(\"Wartości własne i prawdopodobieństwa ich uzyskania na stanie Beta_00\\n\",lam)\n",
    "print(lam[0], abs(V[:,0].H @ Beta_00)**2,\"|0>|0>\")\n",
    "print(lam[1], abs(V[:,1].H @ Beta_00)**2,\"|0>|1>\")\n",
    "print(lam[2], abs(V[:,2].H @ Beta_00)**2,\"|1>|0>\")\n",
    "print(lam[3], abs(V[:,3].H @ Beta_00)**2,\"|1>|1>\")"
   ]
  },
  {
   "cell_type": "code",
   "execution_count": 6,
   "metadata": {},
   "outputs": [
    {
     "name": "stdout",
     "output_type": "stream",
     "text": [
      "[[1.+0.j 1.+0.j 0.+0.j 0.+0.j]\n",
      " [0.+0.j 0.+0.j 0.+0.j 0.+0.j]\n",
      " [0.+0.j 0.+0.j 0.+0.j 0.+0.j]\n",
      " [0.+0.j 0.+0.j 1.+0.j 1.+0.j]]\n"
     ]
    }
   ],
   "source": [
    "print(np.concatenate( (V[:,0],kron(Ket(0),Ket(0)),V[:,3],kron(Ket(1),Ket(1))), axis=1) )"
   ]
  },
  {
   "cell_type": "code",
   "execution_count": 7,
   "metadata": {},
   "outputs": [
    {
     "name": "stdout",
     "output_type": "stream",
     "text": [
      "Wartość oczekiwana ZI\n",
      " [[-2.23711432e-17+0.j]]\n"
     ]
    }
   ],
   "source": [
    "avgZI = Beta_00.H @ ZI @ Beta_00\n",
    "print(\"Wartość oczekiwana ZI\\n\",avgZI)"
   ]
  },
  {
   "cell_type": "markdown",
   "metadata": {},
   "source": [
    "**Podsumowanie**\n",
    "\n",
    "Stany własne obserwabli $Z\\otimes I$ to odpowiednio $\\ket{00}, \\ket{01}, \\ket{10}, \\ket{11}$, a skojarzone z nimi wartości własne to $\\lambda_{00}=1$, $\\lambda_{01}=1$, $\\lambda_{10}=-1$, $\\lambda_{11}=-1$. Mamy też $\\left|\\bra{\\beta_{00}}\\ket{00}\\right|^2=0.5$ i $\\left|\\bra{\\beta_{00}}\\ket{11}\\right|^2=0.5$. Z rachunku wynika, że wartość $+1$ dostajemy dla połowy pomiarów (stan po pomiarze $\\ket{00}$), oraz $-1$ dla pozostałych przypadków (stan po pomiarze $\\ket{11}$). Zatem wartość oczekiwana pomiaru obserwabli $\\bra{\\beta_{00}}ZI\\ket{\\beta_{00}}=0$. "
   ]
  },
  {
   "cell_type": "markdown",
   "metadata": {},
   "source": []
  },
  {
   "cell_type": "markdown",
   "metadata": {},
   "source": [
    "#### $Z \\otimes Z$"
   ]
  },
  {
   "cell_type": "code",
   "execution_count": 8,
   "metadata": {},
   "outputs": [
    {
     "name": "stdout",
     "output_type": "stream",
     "text": [
      "Wektory własne\n",
      " [[1.+0.j 0.+0.j 0.+0.j 0.+0.j]\n",
      " [0.+0.j 1.+0.j 0.+0.j 0.+0.j]\n",
      " [0.+0.j 0.+0.j 1.+0.j 0.+0.j]\n",
      " [0.+0.j 0.+0.j 0.+0.j 1.+0.j]]\n",
      "Wartości własne i prawdopodobieństwa ich uzyskania na stanie Beta_00\n",
      " [ 1.+0.j -1.+0.j -1.+0.j  1.-0.j]\n",
      "(1+0j) [[0.5]] |0>|0>\n",
      "(-1+0j) [[0.]] |0>|1>\n",
      "(-1+0j) [[0.]] |1>|0>\n",
      "(1-0j) [[0.5]] |1>|1>\n",
      "Wartość oczekiwana ZZ\n",
      " [[1.+0.j]]\n"
     ]
    }
   ],
   "source": [
    "ZZ = kron(Z,Z)\n",
    "lam, V = eig(ZZ)\n",
    "print(\"Wektory własne\\n\",V)\n",
    "print(\"Wartości własne i prawdopodobieństwa ich uzyskania na stanie Beta_00\\n\",lam)\n",
    "print(lam[0], abs(V[:,0].H @ Beta_00)**2,\"|0>|0>\")\n",
    "print(lam[1], abs(V[:,1].H @ Beta_00)**2,\"|0>|1>\")\n",
    "print(lam[2], abs(V[:,2].H @ Beta_00)**2,\"|1>|0>\")\n",
    "print(lam[3], abs(V[:,3].H @ Beta_00)**2,\"|1>|1>\")\n",
    "print(\"Wartość oczekiwana ZZ\\n\",Beta_00.H @ kron(Z,Z) @ Beta_00)"
   ]
  },
  {
   "cell_type": "code",
   "execution_count": null,
   "metadata": {},
   "outputs": [],
   "source": []
  },
  {
   "cell_type": "markdown",
   "metadata": {},
   "source": [
    "## Symulacja z wykorzystaniem samplera"
   ]
  },
  {
   "cell_type": "markdown",
   "metadata": {},
   "source": [
    "- Budujemy prosty dwuqubitowy obwód kwantowy"
   ]
  },
  {
   "cell_type": "code",
   "execution_count": 9,
   "metadata": {},
   "outputs": [
    {
     "data": {
      "image/png": "[encoded data removed]",
      "text/plain": [
       "<Figure size 423.588x200.667 with 1 Axes>"
      ]
     },
     "execution_count": 9,
     "metadata": {},
     "output_type": "execute_result"
    }
   ],
   "source": [
    "from qiskit import QuantumRegister, ClassicalRegister, QuantumCircuit\n",
    "from numpy import pi\n",
    "from qiskit.quantum_info import Statevector\n",
    "\n",
    "qreg_q = QuantumRegister(2, 'q')\n",
    "circuit = QuantumCircuit(qreg_q)\n",
    "ket_0 = [1, 0]\n",
    "ket_1 = [0, 1]\n",
    "circuit.initialize(ket_0, qreg_q[0])\n",
    "circuit.initialize(ket_0, qreg_q[1])\n",
    "circuit.h(qreg_q[0])\n",
    "circuit.cx(qreg_q[0], qreg_q[1])\n",
    "circuit.draw('mpl', initial_state=True)"
   ]
  },
  {
   "cell_type": "markdown",
   "metadata": {},
   "source": [
    "Przeanalizujmy jeszcze raz stan wyjściowy"
   ]
  },
  {
   "cell_type": "code",
   "execution_count": 10,
   "metadata": {},
   "outputs": [
    {
     "data": {
      "text/latex": [
       "$$\\ket{\\beta_{m,n}} = \\frac{\\sqrt{2}}{2} |00\\rangle+\\frac{\\sqrt{2}}{2} |11\\rangle$$"
      ],
      "text/plain": [
       "<IPython.core.display.Latex object>"
      ]
     },
     "metadata": {},
     "output_type": "display_data"
    }
   ],
   "source": [
    "beta = Statevector(circuit)\n",
    "display(beta.draw('latex', prefix='\\\\ket{\\\\beta_{m,n}} = '))"
   ]
  },
  {
   "cell_type": "markdown",
   "metadata": {},
   "source": [
    "Uruchamiamy symulator"
   ]
  },
  {
   "cell_type": "code",
   "execution_count": 11,
   "metadata": {},
   "outputs": [],
   "source": [
    "from qiskit_aer import AerSimulator\n",
    "from qiskit_aer.primitives import SamplerV2 as AerSampler\n",
    "from qiskit import transpile\n",
    "backend_aer = AerSimulator() # you can pass noise model here\n",
    "circuit_sampled = circuit.copy()\n",
    "circuit_sampled.measure_all()\n",
    "circuit_transpiled = transpile(circuit_sampled, backend=backend_aer)\n",
    "sampler_aer = AerSampler()\n",
    "job_aer=sampler_aer.run([circuit_transpiled], shots=1000)\n",
    "result_aer=job_aer.result()"
   ]
  },
  {
   "cell_type": "markdown",
   "metadata": {},
   "source": [
    "Wyświetlenie wyników symulacji."
   ]
  },
  {
   "cell_type": "code",
   "execution_count": 12,
   "metadata": {},
   "outputs": [
    {
     "data": {
      "image/png": "[encoded data removed]",
      "text/plain": [
       "<Figure size 640x480 with 1 Axes>"
      ]
     },
     "execution_count": 12,
     "metadata": {},
     "output_type": "execute_result"
    }
   ],
   "source": [
    "from qiskit.visualization import plot_histogram\n",
    "counts_aer = result_aer[0].data.meas.get_counts()\n",
    "plot_histogram(counts_aer)"
   ]
  },
  {
   "cell_type": "markdown",
   "metadata": {},
   "source": [
    "Jak widać, stanami końcowymi pomiaru wyjścia obwodu w bazie obliczeniowej są rzeczywiście tylko stany $\\ket{0}\\ket{0}$ i $\\ket{1}\\ket{1}$. Pomiar w bazie obliczeniowej jest równoważny pomiaroi obserwabli $Z \\otimes Z$. Sampler nie daje jednak informacji o uzyskanym wyniku pomiaru, lecz tylko próbuje odtworzyć statystykę wyboru wektorów własnych mierzonej obserwabli. Więcej można się dowiedzieć korzystając z Estymatora."
   ]
  },
  {
   "cell_type": "markdown",
   "metadata": {},
   "source": [
    "## Symulacja z wykorzystaniem Estymatora\n"
   ]
  },
  {
   "cell_type": "markdown",
   "metadata": {},
   "source": [
    "Budujemy zastaw mierzonych obserwabli."
   ]
  },
  {
   "cell_type": "code",
   "execution_count": 13,
   "metadata": {},
   "outputs": [],
   "source": [
    "from qiskit.quantum_info import Pauli\n",
    "observables = [Pauli('ZI'), Pauli('ZZ')]"
   ]
  },
  {
   "cell_type": "markdown",
   "metadata": {},
   "source": [
    "### Symulator _Qiskit_Aer_\n",
    "\n",
    "Teraz należałoby by dokonać transpliacji obwodu i mierzonych obserwabli na reprezentację wewnętrzną urządzenia kwantowego. W symulatorze _Aer_ reprezentacja wewnętrzna jest identyczna jak w _Qiskit_, więc wynik transpilacji byłby identyczny z danymi wejściowymi. Dlatego przy analizie _Estymatora_ w _Qiskit_Aer_ etap transpilacji można pominąć."
   ]
  },
  {
   "cell_type": "code",
   "execution_count": 14,
   "metadata": {},
   "outputs": [
    {
     "name": "stdout",
     "output_type": "stream",
     "text": [
      "[2.22044605e-16 1.00000000e+00]\n"
     ]
    }
   ],
   "source": [
    "from qiskit_aer.primitives import EstimatorV2 as Estimator\n",
    "estimator = Estimator()\n",
    "job = estimator.run([(circuit, observables)])\n",
    "result=job.result()\n",
    "print(result[0].data.evs)"
   ]
  },
  {
   "cell_type": "markdown",
   "metadata": {},
   "source": [
    "Wizualizacja otrzymanych wyników: wyznaczone wartości oczekiwane obserwabli i odchylenia standardowe."
   ]
  },
  {
   "cell_type": "code",
   "execution_count": 15,
   "metadata": {},
   "outputs": [
    {
     "name": "stdout",
     "output_type": "stream",
     "text": [
      "Expectation values  [2.22044605e-16 1.00000000e+00] Standard deviations:  [0. 0.]\n"
     ]
    },
    {
     "data": {
      "image/png": "[encoded data removed]",
      "text/plain": [
       "<Figure size 640x480 with 1 Axes>"
      ]
     },
     "metadata": {},
     "output_type": "display_data"
    }
   ],
   "source": [
    "import matplotlib.pyplot as plt\n",
    "\n",
    "data = ['ZI', 'ZZ']\n",
    "values = result[0].data.evs\n",
    "stds = result[0].data.stds\n",
    "print(\"Expectation values \", values, \"Standard deviations: \", stds)\n",
    "plt.errorbar(data, values, yerr=stds, fmt='o', capsize=10)\n",
    "plt.xlabel('Observables')\n",
    "plt.ylabel('Expectation value')\n",
    "plt.show()"
   ]
  },
  {
   "cell_type": "markdown",
   "metadata": {},
   "source": [
    "### Komputer kwantowy\n",
    "\n",
    "Uruchamiamy sprzęt"
   ]
  },
  {
   "cell_type": "code",
   "execution_count": 16,
   "metadata": {},
   "outputs": [
    {
     "name": "stderr",
     "output_type": "stream",
     "text": [
      "/tmp/ipykernel_8168/2858925114.py:2: DeprecationWarning: The \"ibm_quantum\" channel option is deprecated and will be sunset on 1 July. After this date, \"ibm_cloud\", \"ibm_quantum_platform\", and \"local\" will be the only valid channels. Open Plan users should migrate now.  All other users should review the migration guide (https://quantum.cloud.ibm.com/docs/migration-guides/classic-iqp-to-cloud-iqp)to learn when to migrate.\n",
      "  service_qpu = QiskitRuntimeService()\n"
     ]
    },
    {
     "name": "stdout",
     "output_type": "stream",
     "text": [
      "ibm_brisbane  num qubits: 127\n"
     ]
    }
   ],
   "source": [
    "from qiskit_ibm_runtime import QiskitRuntimeService\n",
    "service_qpu = QiskitRuntimeService()\n",
    "backend_qpu = service_qpu.least_busy(operational=True, simulator=False)\n",
    "print(backend_qpu.name, \" num qubits:\", backend_qpu.configuration().n_qubits)"
   ]
  },
  {
   "cell_type": "markdown",
   "metadata": {},
   "source": [
    "Rejestr komputera kwantowego jest złożony ze 127 qubitów. Zwykła reprezentacja macierzowa obserwabli dla takiego rejestru ma wymiar $2^{127}\\times 2^{127}$. Przetwarzanie obiektów o takich rozmiarach jest w zasadzie niemożliwe. Na szczęście macierze reprezentujące bramki są rzadkie (ang. _sparse matrix_), tzn. złożone w przeważającej ilości z zer. Dla takich macierzy można opracować bardziej efektywną niż zwykła tablica reprezentację wewnętrzną danych. Temu zadaniu służy właśnie klasa `SparsePauliOp`."
   ]
  },
  {
   "cell_type": "code",
   "execution_count": 17,
   "metadata": {},
   "outputs": [],
   "source": [
    "from qiskit.quantum_info import SparsePauliOp\n",
    "# observables_sparse = SparsePauliOp.from_list([(\"ZI\",1),(\"ZZ\",1)])\n",
    "# observables = [Pauli('ZI'), Pauli('ZZ')] # poprzednio było\n",
    "observables_sparse = [SparsePauliOp('ZI'), SparsePauliOp('ZZ')]"
   ]
  },
  {
   "cell_type": "markdown",
   "metadata": {},
   "source": [
    "Dla estymatora transpilacji należy poddać nie tylko obwód kwantowy, ale rownież badane obserwable. "
   ]
  },
  {
   "cell_type": "code",
   "execution_count": 18,
   "metadata": {},
   "outputs": [
    {
     "data": {
      "image/png": "[encoded data removed]",
      "text/plain": [
       "<Figure size 894.123x200.667 with 1 Axes>"
      ]
     },
     "execution_count": 18,
     "metadata": {},
     "output_type": "execute_result"
    }
   ],
   "source": [
    "from qiskit.transpiler.preset_passmanagers import generate_preset_pass_manager\n",
    "pm = generate_preset_pass_manager(backend=backend_qpu, optimization_level=1)\n",
    "isa_psi = pm.run(circuit)\n",
    "# każdą obserwablę transpilujemy osobno\n",
    "isa_observables = [observables_sparse[0].apply_layout(isa_psi.layout), observables_sparse[1].apply_layout(isa_psi.layout)] \n",
    "isa_psi.draw('mpl', initial_state=True, idle_wires=False)"
   ]
  },
  {
   "cell_type": "code",
   "execution_count": 19,
   "metadata": {},
   "outputs": [],
   "source": [
    "from qiskit_ibm_runtime import EstimatorV2 as Estimator\n",
    "estimator = Estimator(mode=backend_qpu)"
   ]
  },
  {
   "cell_type": "markdown",
   "metadata": {},
   "source": [
    "Wyznaczamy warości oczekiwane zadeklarowanych obserwabli na stanie wyjściowym obwodu `isa_psi` ( $\\bra{\\psi}(Z\\otimes I)\\ket{\\psi}$ i $\\bra{\\psi}(Z\\otimes Z)\\ket{\\psi}$), gdzie $$\\ket{\\psi} = CNOT_{0\\to 1} (H \\otimes I) \\ket{0}\\ket{0}.$$"
   ]
  },
  {
   "cell_type": "code",
   "execution_count": 20,
   "metadata": {},
   "outputs": [
    {
     "name": "stdout",
     "output_type": "stream",
     "text": [
      "<RuntimeJobV2('d1ar5neqf56g008zwkkg', 'estimator')>\n"
     ]
    },
    {
     "name": "stderr",
     "output_type": "stream",
     "text": [
      "/home/vscode/workspace/.venv/lib/python3.12/site-packages/qiskit_ibm_runtime/qiskit_runtime_service.py:1129: UserWarning: IBM Quantum Platform is moving, and this version will be sunset on July 1. To get started on the new platform, read the migration guide at https://docs.quantum.ibm.com/migration-guides/classic-iqp-to-cloud-iqp\n",
      "  warnings.warn(warning_message)\n"
     ]
    }
   ],
   "source": [
    "job_qpu = estimator.run([(isa_psi, isa_observables)])\n",
    "print(job_qpu)"
   ]
  },
  {
   "cell_type": "markdown",
   "metadata": {},
   "source": [
    "Sprawdzamy status, czekamy, sprawdzamy status, czekamy ..., wreszcie mamy status `DONE`."
   ]
  },
  {
   "cell_type": "code",
   "execution_count": 21,
   "metadata": {},
   "outputs": [
    {
     "data": {
      "text/plain": [
       "'QUEUED'"
      ]
     },
     "execution_count": 21,
     "metadata": {},
     "output_type": "execute_result"
    }
   ],
   "source": [
    "job_qpu.status()"
   ]
  },
  {
   "cell_type": "markdown",
   "metadata": {},
   "source": [
    "Pobranie wyników obliczeń z komputera kwantowego"
   ]
  },
  {
   "cell_type": "code",
   "execution_count": 22,
   "metadata": {},
   "outputs": [
    {
     "name": "stdout",
     "output_type": "stream",
     "text": [
      "PrimitiveResult([PubResult(data=DataBin(evs=np.ndarray(<shape=(2,), dtype=float64>), stds=np.ndarray(<shape=(2,), dtype=float64>), ensemble_standard_error=np.ndarray(<shape=(2,), dtype=float64>), shape=(2,)), metadata={'shots': 4096, 'target_precision': 0.015625, 'circuit_metadata': {}, 'resilience': {}, 'num_randomizations': 32})], metadata={'dynamical_decoupling': {'enable': False, 'sequence_type': 'XX', 'extra_slack_distribution': 'middle', 'scheduling_method': 'alap'}, 'twirling': {'enable_gates': False, 'enable_measure': True, 'num_randomizations': 'auto', 'shots_per_randomization': 'auto', 'interleave_randomizations': True, 'strategy': 'active-accum'}, 'resilience': {'measure_mitigation': True, 'zne_mitigation': False, 'pec_mitigation': False}, 'version': 2})\n"
     ]
    }
   ],
   "source": [
    "print(job_qpu.result())\n"
   ]
  },
  {
   "cell_type": "code",
   "execution_count": 23,
   "metadata": {},
   "outputs": [
    {
     "name": "stdout",
     "output_type": "stream",
     "text": [
      "Expectation values: [0.00311891 1.04871265], Standard deviations: [0.01727858 0.00849279]\n"
     ]
    }
   ],
   "source": [
    "pub_result = job_qpu.result()[0]\n",
    "print(f\"Expectation values: {pub_result.data.evs}, Standard deviations: {pub_result.data.stds}\")"
   ]
  },
  {
   "cell_type": "markdown",
   "metadata": {},
   "source": [
    "Prezentacja wyników obliczeń w formie identycznej jak symulatora klasycznego."
   ]
  },
  {
   "cell_type": "code",
   "execution_count": 24,
   "metadata": {},
   "outputs": [
    {
     "name": "stdout",
     "output_type": "stream",
     "text": [
      "Expectation values  [0.00311891 1.04871265] Standard deviations:  [0.01727858 0.00849279]\n"
     ]
    },
    {
     "data": {
      "image/png": "[encoded data removed]",
      "text/plain": [
       "<Figure size 640x480 with 1 Axes>"
      ]
     },
     "metadata": {},
     "output_type": "display_data"
    }
   ],
   "source": [
    "data = ['ZI', 'ZZ']\n",
    "values = pub_result.data.evs\n",
    "stds = pub_result.data.stds\n",
    "print(\"Expectation values \", values, \"Standard deviations: \", stds)\n",
    "plt.errorbar(data, values, yerr=stds, fmt='o', capsize=10)\n",
    "plt.xlabel('Observables')\n",
    "plt.ylabel('Expectation value')\n",
    "plt.show()"
   ]
  }
 ],
 "metadata": {
  "kernelspec": {
   "display_name": "Python 3",
   "language": "python",
   "name": "python3"
  },
  "language_info": {
   "codemirror_mode": {
    "name": "ipython",
    "version": 3
   },
   "file_extension": ".py",
   "mimetype": "text/x-python",
   "name": "python",
   "nbconvert_exporter": "python",
   "pygments_lexer": "ipython3",
   "version": "3.12.10"
  }
 },
 "nbformat": 4,
 "nbformat_minor": 2
}
