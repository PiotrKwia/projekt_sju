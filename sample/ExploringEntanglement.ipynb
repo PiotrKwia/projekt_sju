{
 "cells": [
  {
   "cell_type": "markdown",
   "metadata": {},
   "source": [
    "# Badanie splątania stanów na przykładzie par EPR\n",
    "\n",
    "## Analiza algebraiczna\n",
    "\n",
    "### Pożyteczne funkcje"
   ]
  },
  {
   "cell_type": "code",
   "execution_count": 1,
   "metadata": {},
   "outputs": [
    {
     "name": "stdout",
     "output_type": "stream",
     "text": [
      "Ket(0):\n",
      " [[1.+0.j]\n",
      " [0.+0.j]]\n",
      "Bra(0):\n",
      " [[1.-0.j 0.-0.j]]\n",
      "Ket(0).H (Bra(0)):\n",
      " [[1.-0.j 0.-0.j]]\n",
      "Ket(0,1):\n",
      " [[0.+0.j]\n",
      " [1.+0.j]\n",
      " [0.+0.j]\n",
      " [0.+0.j]]\n",
      "Bra(0,1):\n",
      " [[0.-0.j 1.-0.j 0.-0.j 0.-0.j]]\n"
     ]
    }
   ],
   "source": [
    "import numpy as np\n",
    "\n",
    "def Ket(x, *args):\n",
    "    \"\"\"\n",
    "    Creates a column vector representation of the ket |x⟩ as an np.matrix.\n",
    "\n",
    "    - Converts the arguments (x, *args) into a binary string.\n",
    "    - Finds the appropriate index in computational basis.\n",
    "    - Constructs a column vector (N,1) as an np.matrix.\n",
    "\n",
    "    Returns:\n",
    "    - np.matrix (N,1) representing |x⟩, so that .H works for Hermitian conjugate.\n",
    "    \"\"\"\n",
    "    label = ''.join(str(a) for a in (x,) + args)  # Convert input args to binary string\n",
    "    N = 2 ** len(label)  # Hilbert space dimension 2^n for n-qubit states\n",
    "\n",
    "    ket_vector = np.zeros((N, 1), dtype=complex)  # Column vector (N,1)\n",
    "    index = int(label, 2)  # Convert binary string to integer index\n",
    "    ket_vector[index] = 1  # Set corresponding basis state to 1\n",
    "    \n",
    "    return np.matrix(ket_vector)  # Convert to np.matrix so that .H works\n",
    "\n",
    "def Bra(x, *args):\n",
    "    \"\"\"\n",
    "    Creates a row vector representation of the bra ⟨x| as the Hermitian conjugate of Ket(x).\n",
    "\n",
    "    Returns:\n",
    "    - np.matrix (1, N) representing ⟨x|\n",
    "    \"\"\"\n",
    "    return Ket(x, *args).H  # Use .H for Hermitian conjugate\n",
    "\n",
    "# Example usage\n",
    "ket_0 = Ket(0)       # |0⟩ as a column matrix\n",
    "ket_01 = Ket(0, 1)   # |01⟩ in a 4D Hilbert space\n",
    "bra_0 = Bra(0)       # ⟨0| as a row matrix\n",
    "bra_01 = Bra(0, 1)   # ⟨01| as a row matrix\n",
    "\n",
    "# Print results\n",
    "print(\"Ket(0):\\n\", ket_0)\n",
    "print(\"Bra(0):\\n\", bra_0)\n",
    "print(\"Ket(0).H (Bra(0)):\\n\", ket_0.H)  # Should match Bra(0)\n",
    "print(\"Ket(0,1):\\n\", ket_01)\n",
    "print(\"Bra(0,1):\\n\", bra_01)\n"
   ]
  },
  {
   "cell_type": "markdown",
   "metadata": {},
   "source": [
    "### Iloczyn zewnętrzny\n",
    "\n",
    "- czyli mnożenie wektora kolumnowego przez wierszowy ($\\ket{\\phi}\\bra{\\psi}$)\n",
    "- defincje bramek kwantowych z wykorzystaniem iloczynu zewnętrznego (operator @ oznacza mnożenie macierzy)\n",
    "- rozwiązywanie zagadnienia własnego"
   ]
  },
  {
   "cell_type": "code",
   "execution_count": 2,
   "metadata": {},
   "outputs": [
    {
     "name": "stdout",
     "output_type": "stream",
     "text": [
      "(1+0j) [[1.+0.j 0.+0.j]]\n",
      "(-1+0j) [[0.+0.j 1.+0.j]]\n",
      "(0.9999999999999996+0j) [[0.70710678-0.j 0.70710678+0.j]]\n",
      "(-0.9999999999999999+0j) [[ 0.70710678+0.j -0.70710678-0.j]]\n"
     ]
    }
   ],
   "source": [
    "import numpy as np\n",
    "from numpy.linalg import eig\n",
    "I = Ket(0) @ Bra(0) + Ket(1) @ Bra(1)\n",
    "Z = Ket(0) @ Bra(0) - Ket(1) @ Bra(1)\n",
    "X = Ket(0) @ Bra(1) + Ket(1) @ Bra(0)\n",
    "Y = 1j * (Ket(0) @ Bra(1) - Ket(1) @ Bra(0))\n",
    "H = 1/np.sqrt(2) * (Ket(0) @ Bra(0) + Ket(0) @ Bra(1) + Ket(1) @ Bra(0) - Ket(1) @ Bra(1))\n",
    "eigenvalues, eigenvectors = eig(Z)\n",
    "print(eigenvalues[0], eigenvectors[0])\n",
    "print(eigenvalues[1], eigenvectors[1])\n",
    "eigenvalues, eigenvectors = eig(X)\n",
    "print(eigenvalues[0], eigenvectors[0])\n",
    "print(eigenvalues[1], eigenvectors[1])"
   ]
  },
  {
   "cell_type": "markdown",
   "metadata": {},
   "source": [
    "### Układy złożone\n",
    "\n",
    "- bramka dwuqubitowa knotrolowanej negacji oznaczana jako $CNOT$ lub $CX$ skonstruowana za pomocą iloczynu zewnętrznego i iloczynu Kroneckera (często nazywanego tensorowym)."
   ]
  },
  {
   "cell_type": "code",
   "execution_count": 3,
   "metadata": {},
   "outputs": [
    {
     "name": "stdout",
     "output_type": "stream",
     "text": [
      "[[1.+0.j 0.+0.j 0.+0.j 0.+0.j]\n",
      " [0.+0.j 1.+0.j 0.+0.j 0.+0.j]\n",
      " [0.+0.j 0.+0.j 0.+0.j 1.+0.j]\n",
      " [0.+0.j 0.+0.j 1.+0.j 0.+0.j]]\n"
     ]
    }
   ],
   "source": [
    "from numpy import kron\n",
    "CNOT = kron(Ket(0) @ Bra(0), I) + kron(Ket(1) @ Bra(1), X)\n",
    "print(CNOT)"
   ]
  },
  {
   "cell_type": "markdown",
   "metadata": {},
   "source": [
    "### Urządzenie Bell'a\n",
    "\n",
    "Urządzenie Bella przekształca dwa niezależne qubity bazy obliczeniowej w parę EPR, czy maksymalnie splątany układ dwóch qubitów\n",
    "\n",
    "$$\\beta_{m,n} = CNOT_{m\\to n} ( H \\otimes I ) \\ket{m}\\ket{n} $$"
   ]
  },
  {
   "cell_type": "code",
   "execution_count": 4,
   "metadata": {},
   "outputs": [
    {
     "name": "stdout",
     "output_type": "stream",
     "text": [
      "[[0.70710678+0.j]\n",
      " [0.        +0.j]\n",
      " [0.        +0.j]\n",
      " [0.70710678+0.j]]\n",
      "[[0.70710678+0.j]\n",
      " [0.        +0.j]\n",
      " [0.        +0.j]\n",
      " [0.70710678+0.j]]\n"
     ]
    }
   ],
   "source": [
    "ket_00 = Ket(0, 0)\n",
    "beta_00 = CNOT @ kron(H,I) @ ket_00\n",
    "print(beta_00)\n",
    "\n",
    "Beta_00 = ( kron(Ket(0), Ket(0))+kron(Ket(1), Ket(1)) )/np.sqrt(2)\n",
    "print(Beta_00)"
   ]
  },
  {
   "cell_type": "markdown",
   "metadata": {},
   "source": [
    "### Analiza statystyki pomiarów\n",
    "\n",
    "Obliczamy rozkład prawdopodobieństw wyników dla dwóch obserwabli $Z\\otimes I$ oraz $Z\\otimes Z$.\n",
    "\n",
    "#### $Z \\otimes I$"
   ]
  },
  {
   "cell_type": "code",
   "execution_count": 5,
   "metadata": {},
   "outputs": [
    {
     "name": "stdout",
     "output_type": "stream",
     "text": [
      "Wektory własne\n",
      " [[1.+0.j 0.+0.j 0.+0.j 0.+0.j]\n",
      " [0.+0.j 1.+0.j 0.+0.j 0.+0.j]\n",
      " [0.+0.j 0.+0.j 1.+0.j 0.+0.j]\n",
      " [0.+0.j 0.+0.j 0.+0.j 1.+0.j]]\n",
      "Wartości własne i prawdopodobieństwa ich uzyskania na stanie Beta_00\n",
      " [ 1.+0.j  1.+0.j -1.+0.j -1.+0.j]\n",
      "(1+0j) [[0.5]] |0>|0>\n",
      "(1+0j) [[0.]] |0>|1>\n",
      "(-1+0j) [[0.]] |1>|0>\n",
      "(-1+0j) [[0.5]] |1>|1>\n"
     ]
    }
   ],
   "source": [
    "ZI = kron(Z,I)\n",
    "lam, V = eig(ZI)\n",
    "print(\"Wektory własne\\n\",V)\n",
    "print(\"Wartości własne i prawdopodobieństwa ich uzyskania na stanie Beta_00\\n\",lam)\n",
    "print(lam[0], abs(V[:,0].H @ Beta_00)**2,\"|0>|0>\")\n",
    "print(lam[1], abs(V[:,1].H @ Beta_00)**2,\"|0>|1>\")\n",
    "print(lam[2], abs(V[:,2].H @ Beta_00)**2,\"|1>|0>\")\n",
    "print(lam[3], abs(V[:,3].H @ Beta_00)**2,\"|1>|1>\")"
   ]
  },
  {
   "cell_type": "code",
   "execution_count": 6,
   "metadata": {},
   "outputs": [
    {
     "name": "stdout",
     "output_type": "stream",
     "text": [
      "[[1.+0.j 1.+0.j 0.+0.j 0.+0.j]\n",
      " [0.+0.j 0.+0.j 0.+0.j 0.+0.j]\n",
      " [0.+0.j 0.+0.j 0.+0.j 0.+0.j]\n",
      " [0.+0.j 0.+0.j 1.+0.j 1.+0.j]]\n"
     ]
    }
   ],
   "source": [
    "print(np.concatenate( (V[:,0],kron(Ket(0),Ket(0)),V[:,3],kron(Ket(1),Ket(1))), axis=1) )"
   ]
  },
  {
   "cell_type": "code",
   "execution_count": 7,
   "metadata": {},
   "outputs": [
    {
     "name": "stdout",
     "output_type": "stream",
     "text": [
      "Wartość oczekiwana ZI\n",
      " [[-2.23711432e-17+0.j]]\n"
     ]
    }
   ],
   "source": [
    "avgZI = Beta_00.H @ ZI @ Beta_00\n",
    "print(\"Wartość oczekiwana ZI\\n\",avgZI)"
   ]
  },
  {
   "cell_type": "markdown",
   "metadata": {},
   "source": [
    "**Podsumowanie**\n",
    "\n",
    "Stany własne obserwabli $Z\\otimes I$ to odpowiednio $\\ket{00}, \\ket{01}, \\ket{10}, \\ket{11}$, a skojarzone z nimi wartości własne to $\\lambda_{00}=1$, $\\lambda_{01}=1$, $\\lambda_{10}=-1$, $\\lambda_{11}=-1$. Mamy też $\\left|\\bra{\\beta_{00}}\\ket{00}\\right|^2=0.5$ i $\\left|\\bra{\\beta_{00}}\\ket{11}\\right|^2=0.5$. Z rachunku wynika, że wartość $+1$ dostajemy dla połowy pomiarów (stan po pomiarze $\\ket{00}$), oraz $-1$ dla pozostałych przypadków (stan po pomiarze $\\ket{11}$). Zatem wartość oczekiwana pomiaru obserwabli $\\bra{\\beta_{00}}ZI\\ket{\\beta_{00}}=0$. "
   ]
  },
  {
   "cell_type": "markdown",
   "metadata": {},
   "source": []
  },
  {
   "cell_type": "markdown",
   "metadata": {},
   "source": [
    "#### $Z \\otimes Z$"
   ]
  },
  {
   "cell_type": "code",
   "execution_count": 8,
   "metadata": {},
   "outputs": [
    {
     "name": "stdout",
     "output_type": "stream",
     "text": [
      "Wektory własne\n",
      " [[1.+0.j 0.+0.j 0.+0.j 0.+0.j]\n",
      " [0.+0.j 1.+0.j 0.+0.j 0.+0.j]\n",
      " [0.+0.j 0.+0.j 1.+0.j 0.+0.j]\n",
      " [0.+0.j 0.+0.j 0.+0.j 1.+0.j]]\n",
      "Wartości własne i prawdopodobieństwa ich uzyskania na stanie Beta_00\n",
      " [ 1.+0.j -1.+0.j -1.+0.j  1.-0.j]\n",
      "(1+0j) [[0.5]] |0>|0>\n",
      "(-1+0j) [[0.]] |0>|1>\n",
      "(-1+0j) [[0.]] |1>|0>\n",
      "(1-0j) [[0.5]] |1>|1>\n",
      "Wartość oczekiwana ZZ\n",
      " [[1.+0.j]]\n"
     ]
    }
   ],
   "source": [
    "ZZ = kron(Z,Z)\n",
    "lam, V = eig(ZZ)\n",
    "print(\"Wektory własne\\n\",V)\n",
    "print(\"Wartości własne i prawdopodobieństwa ich uzyskania na stanie Beta_00\\n\",lam)\n",
    "print(lam[0], abs(V[:,0].H @ Beta_00)**2,\"|0>|0>\")\n",
    "print(lam[1], abs(V[:,1].H @ Beta_00)**2,\"|0>|1>\")\n",
    "print(lam[2], abs(V[:,2].H @ Beta_00)**2,\"|1>|0>\")\n",
    "print(lam[3], abs(V[:,3].H @ Beta_00)**2,\"|1>|1>\")\n",
    "print(\"Wartość oczekiwana ZZ\\n\",Beta_00.H @ kron(Z,Z) @ Beta_00)"
   ]
  },
  {
   "cell_type": "code",
   "execution_count": null,
   "metadata": {},
   "outputs": [],
   "source": []
  },
  {
   "cell_type": "markdown",
   "metadata": {},
   "source": [
    "## Symulacja z wykorzystaniem samplera"
   ]
  },
  {
   "cell_type": "markdown",
   "metadata": {},
   "source": [
    "- Budujemy prosty dwuqubitowy obwód kwantowy"
   ]
  },
  {
   "cell_type": "code",
   "execution_count": 9,
   "metadata": {},
   "outputs": [
    {
     "ename": "MissingOptionalLibraryError",
     "evalue": "\"The 'pylatexenc' library is required to use 'MatplotlibDrawer'. You can install it with 'pip install pylatexenc'.\"",
     "output_type": "error",
     "traceback": [
      "\u001b[31m---------------------------------------------------------------------------\u001b[39m",
      "\u001b[31mMissingOptionalLibraryError\u001b[39m               Traceback (most recent call last)",
      "\u001b[36mCell\u001b[39m\u001b[36m \u001b[39m\u001b[32mIn[9]\u001b[39m\u001b[32m, line 13\u001b[39m\n\u001b[32m     11\u001b[39m circuit.h(qreg_q[\u001b[32m0\u001b[39m])\n\u001b[32m     12\u001b[39m circuit.cx(qreg_q[\u001b[32m0\u001b[39m], qreg_q[\u001b[32m1\u001b[39m])\n\u001b[32m---> \u001b[39m\u001b[32m13\u001b[39m \u001b[43mcircuit\u001b[49m\u001b[43m.\u001b[49m\u001b[43mdraw\u001b[49m\u001b[43m(\u001b[49m\u001b[33;43m'\u001b[39;49m\u001b[33;43mmpl\u001b[39;49m\u001b[33;43m'\u001b[39;49m\u001b[43m,\u001b[49m\u001b[43m \u001b[49m\u001b[43minitial_state\u001b[49m\u001b[43m=\u001b[49m\u001b[38;5;28;43;01mTrue\u001b[39;49;00m\u001b[43m)\u001b[49m\n",
      "\u001b[36mFile \u001b[39m\u001b[32m/usr/local/lib/python3.12/site-packages/qiskit/circuit/quantumcircuit.py:3800\u001b[39m, in \u001b[36mQuantumCircuit.draw\u001b[39m\u001b[34m(self, output, scale, filename, style, interactive, plot_barriers, reverse_bits, justify, vertical_compression, idle_wires, with_layout, fold, ax, initial_state, cregbundle, wire_order, expr_len)\u001b[39m\n\u001b[32m   3797\u001b[39m \u001b[38;5;66;03m# pylint: disable=cyclic-import\u001b[39;00m\n\u001b[32m   3798\u001b[39m \u001b[38;5;28;01mfrom\u001b[39;00m\u001b[38;5;250m \u001b[39m\u001b[34;01mqiskit\u001b[39;00m\u001b[34;01m.\u001b[39;00m\u001b[34;01mvisualization\u001b[39;00m\u001b[38;5;250m \u001b[39m\u001b[38;5;28;01mimport\u001b[39;00m circuit_drawer\n\u001b[32m-> \u001b[39m\u001b[32m3800\u001b[39m \u001b[38;5;28;01mreturn\u001b[39;00m \u001b[43mcircuit_drawer\u001b[49m\u001b[43m(\u001b[49m\n\u001b[32m   3801\u001b[39m \u001b[43m    \u001b[49m\u001b[38;5;28;43mself\u001b[39;49m\u001b[43m,\u001b[49m\n\u001b[32m   3802\u001b[39m \u001b[43m    \u001b[49m\u001b[43mscale\u001b[49m\u001b[43m=\u001b[49m\u001b[43mscale\u001b[49m\u001b[43m,\u001b[49m\n\u001b[32m   3803\u001b[39m \u001b[43m    \u001b[49m\u001b[43mfilename\u001b[49m\u001b[43m=\u001b[49m\u001b[43mfilename\u001b[49m\u001b[43m,\u001b[49m\n\u001b[32m   3804\u001b[39m \u001b[43m    \u001b[49m\u001b[43mstyle\u001b[49m\u001b[43m=\u001b[49m\u001b[43mstyle\u001b[49m\u001b[43m,\u001b[49m\n\u001b[32m   3805\u001b[39m \u001b[43m    \u001b[49m\u001b[43moutput\u001b[49m\u001b[43m=\u001b[49m\u001b[43moutput\u001b[49m\u001b[43m,\u001b[49m\n\u001b[32m   3806\u001b[39m \u001b[43m    \u001b[49m\u001b[43minteractive\u001b[49m\u001b[43m=\u001b[49m\u001b[43minteractive\u001b[49m\u001b[43m,\u001b[49m\n\u001b[32m   3807\u001b[39m \u001b[43m    \u001b[49m\u001b[43mplot_barriers\u001b[49m\u001b[43m=\u001b[49m\u001b[43mplot_barriers\u001b[49m\u001b[43m,\u001b[49m\n\u001b[32m   3808\u001b[39m \u001b[43m    \u001b[49m\u001b[43mreverse_bits\u001b[49m\u001b[43m=\u001b[49m\u001b[43mreverse_bits\u001b[49m\u001b[43m,\u001b[49m\n\u001b[32m   3809\u001b[39m \u001b[43m    \u001b[49m\u001b[43mjustify\u001b[49m\u001b[43m=\u001b[49m\u001b[43mjustify\u001b[49m\u001b[43m,\u001b[49m\n\u001b[32m   3810\u001b[39m \u001b[43m    \u001b[49m\u001b[43mvertical_compression\u001b[49m\u001b[43m=\u001b[49m\u001b[43mvertical_compression\u001b[49m\u001b[43m,\u001b[49m\n\u001b[32m   3811\u001b[39m \u001b[43m    \u001b[49m\u001b[43midle_wires\u001b[49m\u001b[43m=\u001b[49m\u001b[43midle_wires\u001b[49m\u001b[43m,\u001b[49m\n\u001b[32m   3812\u001b[39m \u001b[43m    \u001b[49m\u001b[43mwith_layout\u001b[49m\u001b[43m=\u001b[49m\u001b[43mwith_layout\u001b[49m\u001b[43m,\u001b[49m\n\u001b[32m   3813\u001b[39m \u001b[43m    \u001b[49m\u001b[43mfold\u001b[49m\u001b[43m=\u001b[49m\u001b[43mfold\u001b[49m\u001b[43m,\u001b[49m\n\u001b[32m   3814\u001b[39m \u001b[43m    \u001b[49m\u001b[43max\u001b[49m\u001b[43m=\u001b[49m\u001b[43max\u001b[49m\u001b[43m,\u001b[49m\n\u001b[32m   3815\u001b[39m \u001b[43m    \u001b[49m\u001b[43minitial_state\u001b[49m\u001b[43m=\u001b[49m\u001b[43minitial_state\u001b[49m\u001b[43m,\u001b[49m\n\u001b[32m   3816\u001b[39m \u001b[43m    \u001b[49m\u001b[43mcregbundle\u001b[49m\u001b[43m=\u001b[49m\u001b[43mcregbundle\u001b[49m\u001b[43m,\u001b[49m\n\u001b[32m   3817\u001b[39m \u001b[43m    \u001b[49m\u001b[43mwire_order\u001b[49m\u001b[43m=\u001b[49m\u001b[43mwire_order\u001b[49m\u001b[43m,\u001b[49m\n\u001b[32m   3818\u001b[39m \u001b[43m    \u001b[49m\u001b[43mexpr_len\u001b[49m\u001b[43m=\u001b[49m\u001b[43mexpr_len\u001b[49m\u001b[43m,\u001b[49m\n\u001b[32m   3819\u001b[39m \u001b[43m\u001b[49m\u001b[43m)\u001b[49m\n",
      "\u001b[36mFile \u001b[39m\u001b[32m/usr/local/lib/python3.12/site-packages/qiskit/visualization/circuit/circuit_visualization.py:339\u001b[39m, in \u001b[36mcircuit_drawer\u001b[39m\u001b[34m(circuit, scale, filename, style, output, interactive, plot_barriers, reverse_bits, justify, vertical_compression, idle_wires, with_layout, fold, ax, initial_state, cregbundle, wire_order, expr_len)\u001b[39m\n\u001b[32m    324\u001b[39m     \u001b[38;5;28;01mreturn\u001b[39;00m _generate_latex_source(\n\u001b[32m    325\u001b[39m         circuit,\n\u001b[32m    326\u001b[39m         filename=filename,\n\u001b[32m   (...)\u001b[39m\u001b[32m    336\u001b[39m         wire_order=complete_wire_order,\n\u001b[32m    337\u001b[39m     )\n\u001b[32m    338\u001b[39m \u001b[38;5;28;01melif\u001b[39;00m output == \u001b[33m\"\u001b[39m\u001b[33mmpl\u001b[39m\u001b[33m\"\u001b[39m:\n\u001b[32m--> \u001b[39m\u001b[32m339\u001b[39m     image = \u001b[43m_matplotlib_circuit_drawer\u001b[49m\u001b[43m(\u001b[49m\n\u001b[32m    340\u001b[39m \u001b[43m        \u001b[49m\u001b[43mcircuit\u001b[49m\u001b[43m,\u001b[49m\n\u001b[32m    341\u001b[39m \u001b[43m        \u001b[49m\u001b[43mscale\u001b[49m\u001b[43m=\u001b[49m\u001b[43mscale\u001b[49m\u001b[43m,\u001b[49m\n\u001b[32m    342\u001b[39m \u001b[43m        \u001b[49m\u001b[43mfilename\u001b[49m\u001b[43m=\u001b[49m\u001b[43mfilename\u001b[49m\u001b[43m,\u001b[49m\n\u001b[32m    343\u001b[39m \u001b[43m        \u001b[49m\u001b[43mstyle\u001b[49m\u001b[43m=\u001b[49m\u001b[43mstyle\u001b[49m\u001b[43m,\u001b[49m\n\u001b[32m    344\u001b[39m \u001b[43m        \u001b[49m\u001b[43mplot_barriers\u001b[49m\u001b[43m=\u001b[49m\u001b[43mplot_barriers\u001b[49m\u001b[43m,\u001b[49m\n\u001b[32m    345\u001b[39m \u001b[43m        \u001b[49m\u001b[43mreverse_bits\u001b[49m\u001b[43m=\u001b[49m\u001b[43mreverse_bits\u001b[49m\u001b[43m,\u001b[49m\n\u001b[32m    346\u001b[39m \u001b[43m        \u001b[49m\u001b[43mjustify\u001b[49m\u001b[43m=\u001b[49m\u001b[43mjustify\u001b[49m\u001b[43m,\u001b[49m\n\u001b[32m    347\u001b[39m \u001b[43m        \u001b[49m\u001b[43midle_wires\u001b[49m\u001b[43m=\u001b[49m\u001b[43midle_wires\u001b[49m\u001b[43m,\u001b[49m\n\u001b[32m    348\u001b[39m \u001b[43m        \u001b[49m\u001b[43mwith_layout\u001b[49m\u001b[43m=\u001b[49m\u001b[43mwith_layout\u001b[49m\u001b[43m,\u001b[49m\n\u001b[32m    349\u001b[39m \u001b[43m        \u001b[49m\u001b[43mfold\u001b[49m\u001b[43m=\u001b[49m\u001b[43mfold\u001b[49m\u001b[43m,\u001b[49m\n\u001b[32m    350\u001b[39m \u001b[43m        \u001b[49m\u001b[43max\u001b[49m\u001b[43m=\u001b[49m\u001b[43max\u001b[49m\u001b[43m,\u001b[49m\n\u001b[32m    351\u001b[39m \u001b[43m        \u001b[49m\u001b[43minitial_state\u001b[49m\u001b[43m=\u001b[49m\u001b[43minitial_state\u001b[49m\u001b[43m,\u001b[49m\n\u001b[32m    352\u001b[39m \u001b[43m        \u001b[49m\u001b[43mcregbundle\u001b[49m\u001b[43m=\u001b[49m\u001b[43mcregbundle\u001b[49m\u001b[43m,\u001b[49m\n\u001b[32m    353\u001b[39m \u001b[43m        \u001b[49m\u001b[43mwire_order\u001b[49m\u001b[43m=\u001b[49m\u001b[43mcomplete_wire_order\u001b[49m\u001b[43m,\u001b[49m\n\u001b[32m    354\u001b[39m \u001b[43m        \u001b[49m\u001b[43mexpr_len\u001b[49m\u001b[43m=\u001b[49m\u001b[43mexpr_len\u001b[49m\u001b[43m,\u001b[49m\n\u001b[32m    355\u001b[39m \u001b[43m    \u001b[49m\u001b[43m)\u001b[49m\n\u001b[32m    356\u001b[39m \u001b[38;5;28;01melse\u001b[39;00m:\n\u001b[32m    357\u001b[39m     \u001b[38;5;28;01mraise\u001b[39;00m VisualizationError(\n\u001b[32m    358\u001b[39m         \u001b[33mf\u001b[39m\u001b[33m\"\u001b[39m\u001b[33mInvalid output type \u001b[39m\u001b[38;5;132;01m{\u001b[39;00moutput\u001b[38;5;132;01m}\u001b[39;00m\u001b[33m selected. The only valid choices \u001b[39m\u001b[33m\"\u001b[39m\n\u001b[32m    359\u001b[39m         \u001b[33m\"\u001b[39m\u001b[33mare text, latex, latex_source, and mpl\u001b[39m\u001b[33m\"\u001b[39m\n\u001b[32m    360\u001b[39m     )\n",
      "\u001b[36mFile \u001b[39m\u001b[32m/usr/local/lib/python3.12/site-packages/qiskit/visualization/circuit/circuit_visualization.py:719\u001b[39m, in \u001b[36m_matplotlib_circuit_drawer\u001b[39m\u001b[34m(circuit, scale, filename, style, plot_barriers, reverse_bits, justify, idle_wires, with_layout, fold, ax, initial_state, cregbundle, wire_order, expr_len)\u001b[39m\n\u001b[32m    716\u001b[39m \u001b[38;5;28;01mif\u001b[39;00m fold \u001b[38;5;129;01mis\u001b[39;00m \u001b[38;5;28;01mNone\u001b[39;00m:\n\u001b[32m    717\u001b[39m     fold = \u001b[32m25\u001b[39m\n\u001b[32m--> \u001b[39m\u001b[32m719\u001b[39m qcd = \u001b[43m_matplotlib\u001b[49m\u001b[43m.\u001b[49m\u001b[43mMatplotlibDrawer\u001b[49m\u001b[43m(\u001b[49m\n\u001b[32m    720\u001b[39m \u001b[43m    \u001b[49m\u001b[43mqubits\u001b[49m\u001b[43m,\u001b[49m\n\u001b[32m    721\u001b[39m \u001b[43m    \u001b[49m\u001b[43mclbits\u001b[49m\u001b[43m,\u001b[49m\n\u001b[32m    722\u001b[39m \u001b[43m    \u001b[49m\u001b[43mnodes\u001b[49m\u001b[43m,\u001b[49m\n\u001b[32m    723\u001b[39m \u001b[43m    \u001b[49m\u001b[43mcircuit\u001b[49m\u001b[43m,\u001b[49m\n\u001b[32m    724\u001b[39m \u001b[43m    \u001b[49m\u001b[43mscale\u001b[49m\u001b[43m=\u001b[49m\u001b[43mscale\u001b[49m\u001b[43m,\u001b[49m\n\u001b[32m    725\u001b[39m \u001b[43m    \u001b[49m\u001b[43mstyle\u001b[49m\u001b[43m=\u001b[49m\u001b[43mstyle\u001b[49m\u001b[43m,\u001b[49m\n\u001b[32m    726\u001b[39m \u001b[43m    \u001b[49m\u001b[43mreverse_bits\u001b[49m\u001b[43m=\u001b[49m\u001b[43mreverse_bits\u001b[49m\u001b[43m,\u001b[49m\n\u001b[32m    727\u001b[39m \u001b[43m    \u001b[49m\u001b[43mplot_barriers\u001b[49m\u001b[43m=\u001b[49m\u001b[43mplot_barriers\u001b[49m\u001b[43m,\u001b[49m\n\u001b[32m    728\u001b[39m \u001b[43m    \u001b[49m\u001b[43mfold\u001b[49m\u001b[43m=\u001b[49m\u001b[43mfold\u001b[49m\u001b[43m,\u001b[49m\n\u001b[32m    729\u001b[39m \u001b[43m    \u001b[49m\u001b[43max\u001b[49m\u001b[43m=\u001b[49m\u001b[43max\u001b[49m\u001b[43m,\u001b[49m\n\u001b[32m    730\u001b[39m \u001b[43m    \u001b[49m\u001b[43minitial_state\u001b[49m\u001b[43m=\u001b[49m\u001b[43minitial_state\u001b[49m\u001b[43m,\u001b[49m\n\u001b[32m    731\u001b[39m \u001b[43m    \u001b[49m\u001b[43mcregbundle\u001b[49m\u001b[43m=\u001b[49m\u001b[43mcregbundle\u001b[49m\u001b[43m,\u001b[49m\n\u001b[32m    732\u001b[39m \u001b[43m    \u001b[49m\u001b[43mwith_layout\u001b[49m\u001b[43m=\u001b[49m\u001b[43mwith_layout\u001b[49m\u001b[43m,\u001b[49m\n\u001b[32m    733\u001b[39m \u001b[43m    \u001b[49m\u001b[43mexpr_len\u001b[49m\u001b[43m=\u001b[49m\u001b[43mexpr_len\u001b[49m\u001b[43m,\u001b[49m\n\u001b[32m    734\u001b[39m \u001b[43m\u001b[49m\u001b[43m)\u001b[49m\n\u001b[32m    735\u001b[39m \u001b[38;5;28;01mreturn\u001b[39;00m qcd.draw(filename)\n",
      "\u001b[36mFile \u001b[39m\u001b[32m/usr/local/lib/python3.12/site-packages/qiskit/utils/classtools.py:111\u001b[39m, in \u001b[36m_WrappedMethod.__get__.<locals>.out\u001b[39m\u001b[34m(*args, **kwargs)\u001b[39m\n\u001b[32m    108\u001b[39m \u001b[38;5;129m@functools\u001b[39m.wraps(method)\n\u001b[32m    109\u001b[39m \u001b[38;5;28;01mdef\u001b[39;00m\u001b[38;5;250m \u001b[39m\u001b[34mout\u001b[39m(*args, **kwargs):\n\u001b[32m    110\u001b[39m     \u001b[38;5;28;01mfor\u001b[39;00m callback \u001b[38;5;129;01min\u001b[39;00m \u001b[38;5;28mself\u001b[39m._before:\n\u001b[32m--> \u001b[39m\u001b[32m111\u001b[39m         \u001b[43mcallback\u001b[49m\u001b[43m.\u001b[49m\u001b[34;43m__get__\u001b[39;49m\u001b[43m(\u001b[49m\u001b[43mobj\u001b[49m\u001b[43m,\u001b[49m\u001b[43m \u001b[49m\u001b[43mobjtype\u001b[49m\u001b[43m)\u001b[49m\u001b[43m(\u001b[49m\u001b[43m*\u001b[49m\u001b[43margs\u001b[49m\u001b[43m,\u001b[49m\u001b[43m \u001b[49m\u001b[43m*\u001b[49m\u001b[43m*\u001b[49m\u001b[43mkwargs\u001b[49m\u001b[43m)\u001b[49m\n\u001b[32m    112\u001b[39m     retval = method(*args, **kwargs)\n\u001b[32m    113\u001b[39m     \u001b[38;5;28;01mfor\u001b[39;00m callback \u001b[38;5;129;01min\u001b[39;00m \u001b[38;5;28mself\u001b[39m._after:\n",
      "\u001b[36mFile \u001b[39m\u001b[32m/usr/local/lib/python3.12/site-packages/qiskit/utils/lazy_tester.py:41\u001b[39m, in \u001b[36m_RequireNow.__call__\u001b[39m\u001b[34m(self, *_args, **_kwargs)\u001b[39m\n\u001b[32m     40\u001b[39m \u001b[38;5;28;01mdef\u001b[39;00m\u001b[38;5;250m \u001b[39m\u001b[34m__call__\u001b[39m(\u001b[38;5;28mself\u001b[39m, *_args, **_kwargs):\n\u001b[32m---> \u001b[39m\u001b[32m41\u001b[39m     \u001b[38;5;28;43mself\u001b[39;49m\u001b[43m.\u001b[49m\u001b[43m_tester\u001b[49m\u001b[43m.\u001b[49m\u001b[43mrequire_now\u001b[49m\u001b[43m(\u001b[49m\u001b[38;5;28;43mself\u001b[39;49m\u001b[43m.\u001b[49m\u001b[43m_feature\u001b[49m\u001b[43m)\u001b[49m\n",
      "\u001b[36mFile \u001b[39m\u001b[32m/usr/local/lib/python3.12/site-packages/qiskit/utils/lazy_tester.py:221\u001b[39m, in \u001b[36mLazyDependencyManager.require_now\u001b[39m\u001b[34m(self, feature)\u001b[39m\n\u001b[32m    219\u001b[39m \u001b[38;5;28;01mif\u001b[39;00m \u001b[38;5;28mself\u001b[39m:\n\u001b[32m    220\u001b[39m     \u001b[38;5;28;01mreturn\u001b[39;00m\n\u001b[32m--> \u001b[39m\u001b[32m221\u001b[39m \u001b[38;5;28;01mraise\u001b[39;00m MissingOptionalLibraryError(\n\u001b[32m    222\u001b[39m     libname=\u001b[38;5;28mself\u001b[39m._name, name=feature, pip_install=\u001b[38;5;28mself\u001b[39m._install, msg=\u001b[38;5;28mself\u001b[39m._msg\n\u001b[32m    223\u001b[39m )\n",
      "\u001b[31mMissingOptionalLibraryError\u001b[39m: \"The 'pylatexenc' library is required to use 'MatplotlibDrawer'. You can install it with 'pip install pylatexenc'.\""
     ]
    }
   ],
   "source": [
    "from qiskit import QuantumRegister, ClassicalRegister, QuantumCircuit\n",
    "from numpy import pi\n",
    "from qiskit.quantum_info import Statevector\n",
    "\n",
    "qreg_q = QuantumRegister(2, 'q')\n",
    "circuit = QuantumCircuit(qreg_q)\n",
    "ket_0 = [1, 0]\n",
    "ket_1 = [0, 1]\n",
    "circuit.initialize(ket_0, qreg_q[0])\n",
    "circuit.initialize(ket_0, qreg_q[1])\n",
    "circuit.h(qreg_q[0])\n",
    "circuit.cx(qreg_q[0], qreg_q[1])\n",
    "circuit.draw('mpl', initial_state=True)"
   ]
  },
  {
   "cell_type": "markdown",
   "metadata": {},
   "source": [
    "Przeanalizujmy jeszcze raz stan wyjściowy"
   ]
  },
  {
   "cell_type": "code",
   "execution_count": null,
   "metadata": {},
   "outputs": [
    {
     "data": {
      "text/latex": [
       "$$\\ket{\\beta_{m,n}} = \\frac{\\sqrt{2}}{2} |00\\rangle+\\frac{\\sqrt{2}}{2} |11\\rangle$$"
      ],
      "text/plain": [
       "<IPython.core.display.Latex object>"
      ]
     },
     "metadata": {},
     "output_type": "display_data"
    }
   ],
   "source": [
    "beta = Statevector(circuit)\n",
    "display(beta.draw('latex', prefix='\\\\ket{\\\\beta_{m,n}} = '))"
   ]
  },
  {
   "cell_type": "markdown",
   "metadata": {},
   "source": [
    "Uruchamiamy symulator"
   ]
  },
  {
   "cell_type": "code",
   "execution_count": null,
   "metadata": {},
   "outputs": [],
   "source": [
    "from qiskit_aer import AerSimulator\n",
    "from qiskit_aer.primitives import SamplerV2 as AerSampler\n",
    "from qiskit import transpile\n",
    "backend_aer = AerSimulator() # you can pass noise model here\n",
    "circuit_sampled = circuit.copy()\n",
    "circuit_sampled.measure_all()\n",
    "circuit_transpiled = transpile(circuit_sampled, backend=backend_aer)\n",
    "sampler_aer = AerSampler()\n",
    "job_aer=sampler_aer.run([circuit_transpiled], shots=1000)\n",
    "result_aer=job_aer.result()"
   ]
  },
  {
   "cell_type": "markdown",
   "metadata": {},
   "source": [
    "Wyświetlenie wyników symulacji."
   ]
  },
  {
   "cell_type": "code",
   "execution_count": null,
   "metadata": {},
   "outputs": [
    {
     "data": {
      "image/png": "[encoded data removed]",
      "text/plain": [
       "<Figure size 640x480 with 1 Axes>"
      ]
     },
     "execution_count": 29,
     "metadata": {},
     "output_type": "execute_result"
    }
   ],
   "source": [
    "from qiskit.visualization import plot_histogram\n",
    "counts_aer = result_aer[0].data.meas.get_counts()\n",
    "plot_histogram(counts_aer)"
   ]
  },
  {
   "cell_type": "markdown",
   "metadata": {},
   "source": [
    "Jak widać, stanami końcowymi pomiaru wyjścia obwodu w bazie obliczeniowej są rzeczywiście tylko stany $\\ket{0}\\ket{0}$ i $\\ket{1}\\ket{1}$. Pomiar w bazie obliczeniowej jest równoważny pomiaroi obserwabli $Z \\otimes Z$. Sampler nie daje jednak informacji o uzyskanym wyniku pomiaru, lecz tylko próbuje odtworzyć statystykę wyboru wektorów własnych mierzonej obserwabli. Więcej można się dowiedzieć korzystając z Estymatora."
   ]
  },
  {
   "cell_type": "markdown",
   "metadata": {},
   "source": [
    "## Symulacja z wykorzystaniem Estymatora\n"
   ]
  },
  {
   "cell_type": "markdown",
   "metadata": {},
   "source": [
    "Budujemy zastaw mierzonych obserwabli."
   ]
  },
  {
   "cell_type": "code",
   "execution_count": null,
   "metadata": {},
   "outputs": [],
   "source": [
    "from qiskit.quantum_info import Pauli\n",
    "observables = [Pauli('ZI'), Pauli('ZZ')]"
   ]
  },
  {
   "cell_type": "markdown",
   "metadata": {},
   "source": [
    "### Symulator _Qiskit_Aer_\n",
    "\n",
    "Teraz należałoby by dokonać transpliacji obwodu i mierzonych obserwabli na reprezentację wewnętrzną urządzenia kwantowego. W symulatorze _Aer_ reprezentacja wewnętrzna jest identyczna jak w _Qiskit_, więc wynik transpilacji byłby identyczny z danymi wejściowymi. Dlatego przy analizie _Estymatora_ w _Qiskit_Aer_ etap transpilacji można pominąć."
   ]
  },
  {
   "cell_type": "code",
   "execution_count": null,
   "metadata": {},
   "outputs": [
    {
     "name": "stdout",
     "output_type": "stream",
     "text": [
      "[2.22044605e-16 1.00000000e+00]\n"
     ]
    }
   ],
   "source": [
    "from qiskit_aer.primitives import EstimatorV2 as Estimator\n",
    "estimator = Estimator()\n",
    "job = estimator.run([(circuit, observables)])\n",
    "result=job.result()\n",
    "print(result[0].data.evs)"
   ]
  },
  {
   "cell_type": "markdown",
   "metadata": {},
   "source": [
    "Wizualizacja otrzymanych wyników: wyznaczone wartości oczekiwane obserwabli i odchylenia standardowe."
   ]
  },
  {
   "cell_type": "code",
   "execution_count": null,
   "metadata": {},
   "outputs": [
    {
     "name": "stdout",
     "output_type": "stream",
     "text": [
      "Expectation values  [2.22044605e-16 1.00000000e+00] Standard deviations:  [0. 0.]\n"
     ]
    },
    {
     "data": {
      "image/png": "[encoded data removed]",
      "text/plain": [
       "<Figure size 640x480 with 1 Axes>"
      ]
     },
     "metadata": {},
     "output_type": "display_data"
    }
   ],
   "source": [
    "import matplotlib.pyplot as plt\n",
    "\n",
    "data = ['ZI', 'ZZ']\n",
    "values = result[0].data.evs\n",
    "stds = result[0].data.stds\n",
    "print(\"Expectation values \", values, \"Standard deviations: \", stds)\n",
    "plt.errorbar(data, values, yerr=stds, fmt='o', capsize=10)\n",
    "plt.xlabel('Observables')\n",
    "plt.ylabel('Expectation value')\n",
    "plt.show()"
   ]
  },
  {
   "cell_type": "markdown",
   "metadata": {},
   "source": [
    "### Komputer kwantowy\n",
    "\n",
    "Uruchamiamy sprzęt"
   ]
  },
  {
   "cell_type": "code",
   "execution_count": null,
   "metadata": {},
   "outputs": [
    {
     "name": "stdout",
     "output_type": "stream",
     "text": [
      "ibm_kyiv  num qubits: 127\n"
     ]
    }
   ],
   "source": [
    "from qiskit_ibm_runtime import QiskitRuntimeService\n",
    "service_qpu = QiskitRuntimeService()\n",
    "backend_qpu = service_qpu.least_busy(operational=True, simulator=False)\n",
    "print(backend_qpu.name, \" num qubits:\", backend_qpu.configuration().n_qubits)"
   ]
  },
  {
   "cell_type": "markdown",
   "metadata": {},
   "source": [
    "Rejestr komputera kwantowego jest złożony ze 127 qubitów. Zwykła reprezentacja macierzowa obserwabli dla takiego rejestru ma wymiar $2^{127}\\times 2^{127}$. Przetwarzanie obiektów o takich rozmiarach jest w zasadzie niemożliwe. Na szczęście macierze reprezentujące bramki są rzadkie (ang. _sparse matrix_), tzn. złożone w przeważającej ilości z zer. Dla takich macierzy można opracować bardziej efektywną niż zwykła tablica reprezentację wewnętrzną danych. Temu zadaniu służy właśnie klasa `SparsePauliOp`."
   ]
  },
  {
   "cell_type": "code",
   "execution_count": null,
   "metadata": {},
   "outputs": [],
   "source": [
    "from qiskit.quantum_info import SparsePauliOp\n",
    "# observables_sparse = SparsePauliOp.from_list([(\"ZI\",1),(\"ZZ\",1)])\n",
    "# observables = [Pauli('ZI'), Pauli('ZZ')] # poprzednio było\n",
    "observables_sparse = [SparsePauliOp('ZI'), SparsePauliOp('ZZ')]"
   ]
  },
  {
   "cell_type": "markdown",
   "metadata": {},
   "source": [
    "Dla estymatora transpilacji należy poddać nie tylko obwód kwantowy, ale rownież badane obserwable. "
   ]
  },
  {
   "cell_type": "code",
   "execution_count": null,
   "metadata": {},
   "outputs": [
    {
     "data": {
      "image/png": "[encoded data removed]",
      "text/plain": [
       "<Figure size 726.901x200.667 with 1 Axes>"
      ]
     },
     "execution_count": 74,
     "metadata": {},
     "output_type": "execute_result"
    }
   ],
   "source": [
    "from qiskit.transpiler.preset_passmanagers import generate_preset_pass_manager\n",
    "pm = generate_preset_pass_manager(backend=backend_qpu, optimization_level=1)\n",
    "isa_psi = pm.run(circuit)\n",
    "# każdą obserwablę transpilujemy osobno\n",
    "isa_observables = [observables_sparse[0].apply_layout(isa_psi.layout), observables_sparse[1].apply_layout(isa_psi.layout)] \n",
    "isa_psi.draw('mpl', initial_state=True, idle_wires=False)"
   ]
  },
  {
   "cell_type": "code",
   "execution_count": null,
   "metadata": {},
   "outputs": [],
   "source": [
    "from qiskit_ibm_runtime import EstimatorV2 as Estimator\n",
    "estimator = Estimator(mode=backend_qpu)"
   ]
  },
  {
   "cell_type": "markdown",
   "metadata": {},
   "source": [
    "Wyznaczamy warości oczekiwane zadeklarowanych obserwabli na stanie wyjściowym obwodu `isa_psi` ( $\\bra{\\psi}(Z\\otimes I)\\ket{\\psi}$ i $\\bra{\\psi}(Z\\otimes Z)\\ket{\\psi}$), gdzie $$\\ket{\\psi} = CNOT_{0\\to 1} (H \\otimes I) \\ket{0}\\ket{0}.$$"
   ]
  },
  {
   "cell_type": "code",
   "execution_count": null,
   "metadata": {},
   "outputs": [
    {
     "name": "stdout",
     "output_type": "stream",
     "text": [
      "<RuntimeJobV2('czcmre9tp60g008hewsg', 'estimator')>\n"
     ]
    }
   ],
   "source": [
    "job_qpu = estimator.run([(isa_psi, isa_observables)])\n",
    "print(job_qpu)"
   ]
  },
  {
   "cell_type": "markdown",
   "metadata": {},
   "source": [
    "Sprawdzamy status, czekamy, sprawdzamy status, czekamy ..., wreszcie mamy status `DONE`."
   ]
  },
  {
   "cell_type": "code",
   "execution_count": null,
   "metadata": {},
   "outputs": [
    {
     "data": {
      "text/plain": [
       "'DONE'"
      ]
     },
     "execution_count": 79,
     "metadata": {},
     "output_type": "execute_result"
    }
   ],
   "source": [
    "job_qpu.status()"
   ]
  },
  {
   "cell_type": "markdown",
   "metadata": {},
   "source": [
    "Pobranie wyników obliczeń z komputera kwantowego"
   ]
  },
  {
   "cell_type": "code",
   "execution_count": null,
   "metadata": {},
   "outputs": [
    {
     "name": "stdout",
     "output_type": "stream",
     "text": [
      "PrimitiveResult([PubResult(data=DataBin(evs=np.ndarray(<shape=(2,), dtype=float64>), stds=np.ndarray(<shape=(2,), dtype=float64>), ensemble_standard_error=np.ndarray(<shape=(2,), dtype=float64>), shape=(2,)), metadata={'shots': 4096, 'target_precision': 0.015625, 'circuit_metadata': {}, 'resilience': {}, 'num_randomizations': 32})], metadata={'dynamical_decoupling': {'enable': False, 'sequence_type': 'XX', 'extra_slack_distribution': 'middle', 'scheduling_method': 'alap'}, 'twirling': {'enable_gates': False, 'enable_measure': True, 'num_randomizations': 'auto', 'shots_per_randomization': 'auto', 'interleave_randomizations': True, 'strategy': 'active-accum'}, 'resilience': {'measure_mitigation': True, 'zne_mitigation': False, 'pec_mitigation': False}, 'version': 2})\n"
     ]
    }
   ],
   "source": [
    "print(job_qpu.result())\n"
   ]
  },
  {
   "cell_type": "code",
   "execution_count": null,
   "metadata": {},
   "outputs": [
    {
     "name": "stdout",
     "output_type": "stream",
     "text": [
      "Expectation values: [0.00349738 1.00126295], Standard deviations: [0.01667184 0.00351146]\n"
     ]
    }
   ],
   "source": [
    "pub_result = job_qpu.result()[0]\n",
    "print(f\"Expectation values: {pub_result.data.evs}, Standard deviations: {pub_result.data.stds}\")"
   ]
  },
  {
   "cell_type": "markdown",
   "metadata": {},
   "source": [
    "Prezentacja wyników obliczeń w formie identycznej jak symulatora klasycznego."
   ]
  },
  {
   "cell_type": "code",
   "execution_count": null,
   "metadata": {},
   "outputs": [
    {
     "name": "stdout",
     "output_type": "stream",
     "text": [
      "Expectation values  [0.00349738 1.00126295] Standard deviations:  [0.01667184 0.00351146]\n"
     ]
    },
    {
     "data": {
      "image/png": "[encoded data removed]",
      "text/plain": [
       "<Figure size 640x480 with 1 Axes>"
      ]
     },
     "metadata": {},
     "output_type": "display_data"
    }
   ],
   "source": [
    "data = ['ZI', 'ZZ']\n",
    "values = pub_result.data.evs\n",
    "stds = pub_result.data.stds\n",
    "print(\"Expectation values \", values, \"Standard deviations: \", stds)\n",
    "plt.errorbar(data, values, yerr=stds, fmt='o', capsize=10)\n",
    "plt.xlabel('Observables')\n",
    "plt.ylabel('Expectation value')\n",
    "plt.show()"
   ]
  }
 ],
 "metadata": {
  "kernelspec": {
   "display_name": "Python 3",
   "language": "python",
   "name": "python3"
  },
  "language_info": {
   "codemirror_mode": {
    "name": "ipython",
    "version": 3
   },
   "file_extension": ".py",
   "mimetype": "text/x-python",
   "name": "python",
   "nbconvert_exporter": "python",
   "pygments_lexer": "ipython3",
   "version": "3.12.10"
  }
 },
 "nbformat": 4,
 "nbformat_minor": 2
}
