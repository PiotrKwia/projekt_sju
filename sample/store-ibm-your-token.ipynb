{
 "cells": [
  {
   "cell_type": "markdown",
   "metadata": {},
   "source": [
    "# Kod poniżej inicjuje IBM API Token dla danego projektu. \n",
    "\n",
    "Dzięki tej inicjalizacji nie jest potrzebne jawnego odwoływanie się do `IBM Id` w kodzie źródłowym notatników.\n",
    "\n",
    "**Przed uruchomieniem notatnika załóż konto na [IBM Quantum Platform](https://quantum.ibm.com/), wygeneruj API Token i wklej do kodu w punkcie 2.**"
   ]
  },
  {
   "cell_type": "markdown",
   "metadata": {},
   "source": [
    "1. Sprawdź, z której wersji `Qiskit`"
   ]
  },
  {
   "cell_type": "code",
   "execution_count": 3,
   "metadata": {},
   "outputs": [
    {
     "data": {
      "text/plain": [
       "'2.1.0'"
      ]
     },
     "execution_count": 3,
     "metadata": {},
     "output_type": "execute_result"
    }
   ],
   "source": [
    "import qiskit\n",
    "qiskit.__version__"
   ]
  },
  {
   "cell_type": "markdown",
   "metadata": {},
   "source": [
    "2. Zainicjuj API Token dla projektu."
   ]
  },
  {
   "cell_type": "code",
   "execution_count": 4,
   "metadata": {},
   "outputs": [],
   "source": [
    "from qiskit_ibm_runtime import QiskitRuntimeService\n",
    "QiskitRuntimeService.save_account(overwrite=True,channel=\"ibm_quantum\",token=\"e9cb59f66f9840872de40472fd070bed1d60eb7e961367c16d95e5fddbd479433ae3fb50a23e87a4ce85aa2ffa70ed065cebda198a06868779751f2f94f0e3cc\")\n"
   ]
  },
  {
   "cell_type": "markdown",
   "metadata": {},
   "source": [
    "3. Sprawdź parametry używanego konta"
   ]
  },
  {
   "cell_type": "code",
   "execution_count": 5,
   "metadata": {},
   "outputs": [
    {
     "name": "stderr",
     "output_type": "stream",
     "text": [
      "/tmp/ipykernel_6809/3967526021.py:1: DeprecationWarning: The \"ibm_quantum\" channel option is deprecated and will be sunset on 1 July. After this date, \"ibm_cloud\", \"ibm_quantum_platform\", and \"local\" will be the only valid channels. Open Plan users should migrate now.  All other users should review the migration guide (https://quantum.cloud.ibm.com/docs/migration-guides/classic-iqp-to-cloud-iqp)to learn when to migrate.\n",
      "  service = QiskitRuntimeService()\n"
     ]
    },
    {
     "name": "stdout",
     "output_type": "stream",
     "text": [
      "Active account: {'channel': 'ibm_quantum', 'url': 'https://auth.quantum.ibm.com/api', 'token': 'e9cb59f66f9840872de40472fd070bed1d60eb7e961367c16d95e5fddbd479433ae3fb50a23e87a4ce85aa2ffa70ed065cebda198a06868779751f2f94f0e3cc', 'verify': True, 'private_endpoint': False}\n"
     ]
    }
   ],
   "source": [
    "service = QiskitRuntimeService()\n",
    "print(\"Active account:\", service.active_account())"
   ]
  },
  {
   "cell_type": "markdown",
   "metadata": {},
   "source": [
    "4. Sprawdź parametry dostępnych komputerów kwantowych"
   ]
  },
  {
   "cell_type": "code",
   "execution_count": 6,
   "metadata": {},
   "outputs": [
    {
     "name": "stdout",
     "output_type": "stream",
     "text": [
      "Number of backends found: 2\n",
      "ibm_brisbane  num qubits: 127\n",
      "ibm_sherbrooke  num qubits: 127\n"
     ]
    }
   ],
   "source": [
    "backends = service.backends()\n",
    "print(\"Number of backends found:\", len(backends))\n",
    "for backend in backends:\n",
    "    print(backend.name, \" num qubits:\", backend.configuration().n_qubits)"
   ]
  }
 ],
 "metadata": {
  "kernelspec": {
   "display_name": "Python 3",
   "language": "python",
   "name": "python3"
  },
  "language_info": {
   "codemirror_mode": {
    "name": "ipython",
    "version": 3
   },
   "file_extension": ".py",
   "mimetype": "text/x-python",
   "name": "python",
   "nbconvert_exporter": "python",
   "pygments_lexer": "ipython3",
   "version": "3.12.10"
  }
 },
 "nbformat": 4,
 "nbformat_minor": 4
}
